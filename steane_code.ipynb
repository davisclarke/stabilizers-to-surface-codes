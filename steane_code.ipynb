{
 "cells": [
  {
   "cell_type": "markdown",
   "metadata": {},
   "source": [
    "<img src='steane.svg'></img>\n",
    "$$H_X = H_Z = \\begin{bmatrix} 0 & 0 & 0 & 1 & 1 & 1 & 1 \\\\ \n",
    "                              0 & 1 & 1 & 0 & 0 & 1 & 1 \\\\ \n",
    "                              1 & 0 & 1 & 0 & 1 & 0 & 1 \\end{bmatrix}$$\n",
    "$$|0\\rangle_L = \\frac{1}{2\\sqrt{2}}\\biggl(|0000000\\rangle + |1010101\\rangle + |0110011\\rangle + |1100110\\rangle +\n",
    "                                          |0001111\\rangle + |1011010\\rangle + |0111100\\rangle + |1101001\\rangle \\biggr),$$\n",
    "$$|1\\rangle_L = \\frac{1}{2\\sqrt{2}}\\biggl(|1111111\\rangle + |0101010\\rangle + |1001100\\rangle + |0011001\\rangle +\n",
    "                                          |1110000\\rangle + |0100101\\rangle + |1000011\\rangle + |0010110\\rangle \\biggr).$$\n",
    "$$X_L|0\\rangle_L = |1\\rangle_L$$"
   ]
  },
  {
   "cell_type": "code",
   "execution_count": 2,
   "metadata": {},
   "outputs": [],
   "source": [
    "from stim import Tableau, Circuit, PauliString, TableauSimulator\n",
    "import pymatching \n",
    "from scipy import sparse\n",
    "import scipy.linalg as lin\n",
    "import numpy as np"
   ]
  },
  {
   "cell_type": "code",
   "execution_count": 3,
   "metadata": {},
   "outputs": [],
   "source": [
    "def get_stabilizers_from_tableau(s: TableauSimulator):\n",
    "    return s.current_inverse_tableau().inverse().to_stabilizers()[:-1]"
   ]
  },
  {
   "cell_type": "code",
   "execution_count": 4,
   "metadata": {},
   "outputs": [],
   "source": [
    "steane_generator_group = [\n",
    "    PauliString('___ZZZZ'), # Z Hamming matrix # S_{Z, 1}\n",
    "    PauliString('_ZZ__ZZ'),                    # S_{Z, 2}\n",
    "    PauliString('Z_Z_Z_Z'),                    # S_{Z, 3}\n",
    "    PauliString('___XXXX'), # X Hamming matrix # S_{X, 1}\n",
    "    PauliString('_XX__XX'),                    # S_{X, 2}\n",
    "    PauliString('X_X_X_X'),                    # S_{X, 3}\n",
    "    PauliString('ZZZZZZZ') # Logical\n",
    "]\n",
    "X_L = PauliString('XXXXXXX')\n",
    "Z_L = PauliString('ZZZZZZZ')\n",
    "\n",
    "s = TableauSimulator()\n",
    "s.set_state_from_stabilizers(steane_generator_group)"
   ]
  },
  {
   "cell_type": "code",
   "execution_count": 5,
   "metadata": {},
   "outputs": [
    {
     "data": {
      "text/plain": [
       "True"
      ]
     },
     "execution_count": 5,
     "metadata": {},
     "output_type": "execute_result"
    }
   ],
   "source": [
    "logical_0 = np.zeros((2**7,)) # Sanity check\n",
    "np.put(logical_0, [int(0b0000000), int(0b1010101), int(0b1100110), int(0b0110011), \n",
    "                   int(0b1111000), int(0b0101101), int(0b0011110), int(0b1001011)], 1/(2*np.sqrt(2)))\n",
    "np.allclose(s.state_vector(), logical_0)"
   ]
  },
  {
   "cell_type": "markdown",
   "metadata": {},
   "source": [
    "$H_X$, $H_Z$ are both the $[7,4, 3]$ Hamming parity check matrices. \n",
    "\n",
    "$$H_X \\cdot H_Z^T \\pmod{2} = 0$$ \n",
    "\n",
    "$$ \\bold{H}= \\left[\\begin{array}{c|c} H_X & 0 \\\\ 0 & H_Z \\end{array}\\right] = \n",
    "                    \\left[ \\begin{array}{ccccccc|ccccccc} \n",
    "                              0 & 0 & 0 & 1 & 1 & 1 & 1 & 0 & 0 & 0 & 0 & 0 & 0 & 0 \\\\ \n",
    "                              0 & 1 & 1 & 0 & 0 & 1 & 1 & 0 & 0 & 0 & 0 & 0 & 0 & 0 \\\\ \n",
    "                              1 & 0 & 1 & 0 & 1 & 0 & 1 & 0 & 0 & 0 & 0 & 0 & 0 & 0 \\\\\n",
    "                              0 & 0 & 0 & 0 & 0 & 0 & 0 & 0 & 0 & 0 & 1 & 1 & 1 & 1 \\\\ \n",
    "                              0 & 0 & 0 & 0 & 0 & 0 & 0 & 0 & 1 & 1 & 0 & 0 & 1 & 1 \\\\ \n",
    "                              0 & 0 & 0 & 0 & 0 & 0 & 0 & 1 & 0 & 1 & 0 & 1 & 0 & 1\n",
    "                              \\end{array} \\right].$$ \n",
    "\n",
    "We can also demonstrate that the stabilizers commute with the binary symplectic product of $\\bold{H}$:\n",
    "$$\\bold{H} \\odot \\bold{H} = 0,$$\n",
    "is the binary symplectic product $A\\odot B \\equiv A \\Omega B, \\  \\Omega = \\begin{bmatrix} 0 & I_n \\\\ I_n & 0 \\end{bmatrix}  $ is the binary symplectic matrix ($n=7$ in our case)"
   ]
  },
  {
   "cell_type": "code",
   "execution_count": 6,
   "metadata": {},
   "outputs": [
    {
     "data": {
      "text/plain": [
       "0"
      ]
     },
     "execution_count": 6,
     "metadata": {},
     "output_type": "execute_result"
    }
   ],
   "source": [
    "H_ZX = np.matrix([[0, 0, 0, 1, 1, 1, 1], \n",
    "                  [0, 1, 1, 0, 0, 1, 1], \n",
    "                  [1, 0, 1, 0, 1, 0, 1]], )\n",
    "H_X = np.concatenate([H_ZX, np.zeros((3,7))], axis=0)\n",
    "H_Z = np.concatenate([np.zeros((3,7)), H_ZX], axis=0)\n",
    "H = lin.block_diag(H_ZX, H_ZX)\n",
    "symp_bin_mat = np.kron(np.eye(2)[::-1], np.eye(7)) # [ 0 & I_7 // I_7 & 0]\n",
    "\n",
    "# 0 if 0 matrix as described\n",
    "np.count_nonzero(np.mod(np.dot(H_X, H_Z.T), 2).sum())"
   ]
  },
  {
   "cell_type": "code",
   "execution_count": null,
   "metadata": {},
   "outputs": [],
   "source": []
  },
  {
   "cell_type": "code",
   "execution_count": 8,
   "metadata": {},
   "outputs": [
    {
     "data": {
      "text/plain": [
       "[stim.PauliString(\"+___ZZZZ______\"),\n",
       " stim.PauliString(\"+_ZZ__ZZ______\"),\n",
       " stim.PauliString(\"+Z_Z_Z_Z______\"),\n",
       " stim.PauliString(\"+___XXXX______\"),\n",
       " stim.PauliString(\"+_XX__XX______\"),\n",
       " stim.PauliString(\"+X_X_X_X______\"),\n",
       " stim.PauliString(\"+ZZZZZZZ______\"),\n",
       " stim.PauliString(\"+___ZZZZZ_____\"),\n",
       " stim.PauliString(\"+_ZZ__ZZ_Z____\"),\n",
       " stim.PauliString(\"+Z_Z_Z_Z__Z___\"),\n",
       " stim.PauliString(\"+___XXXX___Z__\"),\n",
       " stim.PauliString(\"+_XX__XX____Z_\"),\n",
       " stim.PauliString(\"+X_X_X_X_____Z\")]"
      ]
     },
     "execution_count": 8,
     "metadata": {},
     "output_type": "execute_result"
    }
   ],
   "source": [
    "c = Tableau(7).from_stabilizers(steane_generator_group).to_circuit()\n",
    "c.append_from_stim_program_text(\n",
    "'''\n",
    "    # Bit-flip parity check\n",
    "    CX 3 7 4 7 5 7 6 7\n",
    "    CX 1 8 2 8 5 8 6 8\n",
    "    CX 0 9 2 9 4 9 6 9\n",
    "\n",
    "    # Phase-flip parity check\n",
    "    H 10 11 12\n",
    "    CX 10 3 10 4 10 5 10 6\n",
    "    CX 11 1 11 2 11 5 11 6\n",
    "    CX 12 0 12 2 12 4 12 6\n",
    "    H 10 11 12\n",
    "\n",
    "    # Measure parity\n",
    "    M 7 8 9 10 11 12                      \n",
    "''')\n",
    "c.to_tableau(ignore_measurement=True).to_stabilizers()"
   ]
  },
  {
   "cell_type": "markdown",
   "metadata": {},
   "source": []
  },
  {
   "cell_type": "code",
   "execution_count": null,
   "metadata": {},
   "outputs": [],
   "source": []
  },
  {
   "cell_type": "code",
   "execution_count": null,
   "metadata": {},
   "outputs": [],
   "source": []
  }
 ],
 "metadata": {
  "kernelspec": {
   "display_name": "qec_notebooks",
   "language": "python",
   "name": "python3"
  },
  "language_info": {
   "codemirror_mode": {
    "name": "ipython",
    "version": 3
   },
   "file_extension": ".py",
   "mimetype": "text/x-python",
   "name": "python",
   "nbconvert_exporter": "python",
   "pygments_lexer": "ipython3",
   "version": "3.12.4"
  }
 },
 "nbformat": 4,
 "nbformat_minor": 2
}
