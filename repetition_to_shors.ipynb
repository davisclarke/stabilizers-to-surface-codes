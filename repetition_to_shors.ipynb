{
 "cells": [
  {
   "cell_type": "code",
   "execution_count": 2,
   "metadata": {},
   "outputs": [],
   "source": [
    "from stim import Circuit, Tableau, PauliString, TableauSimulator\n",
    "import numpy as np"
   ]
  },
  {
   "cell_type": "code",
   "execution_count": 3,
   "metadata": {},
   "outputs": [],
   "source": [
    "def get_stabilizers_from_tableau(s: TableauSimulator):\n",
    "    return s.current_inverse_tableau().inverse().to_stabilizers()[:-1]"
   ]
  },
  {
   "cell_type": "markdown",
   "metadata": {},
   "source": [
    "Unitary, $U$, stabilizes pure state, $|\\psi\\rangle = \\alpha|0\\rangle + \\beta|1\\rangle, \\ \\alpha, \\ \\beta \\in \\mathbb{C}$, if $U|\\psi\\rangle = |\\psi\\rangle$; $U$ stabilizes the eigenstate of $U$ with $+1$ eigenvalue. Note that global phase bears great revelance here: $U$ does not stabilize $|\\psi\\rangle$ if $U|\\psi\\rangle = -|\\psi\\rangle$. The Pauli matrices, $P \\in \\{I, \\ Y, \\ X, \\ Z\\}$, stabilize\n",
    "$$Z|0\\rangle = |0\\rangle, \\ -Z|1\\rangle = |1\\rangle,$$\n",
    "$$X|+\\rangle = |+\\rangle, \\ -X|-\\rangle = |-\\rangle,$$\n",
    "$$Y|i\\rangle = |i\\rangle, \\ -Y|{-i}\\rangle = |{-i}\\rangle,$$\n",
    "$I$ stabilizes any $|\\psi\\rangle$, and $-I$ stabilizes no $|\\psi\\rangle$.\n",
    "Recall some important qualities of Pauli matrices:\n",
    "$$iXY = Z, \\ iYX = -Z,$$\n",
    "$$iYZ = X, \\ iZY = -X,$$\n",
    "$$iZX = Y, \\ iXZ = -Y,$$\n",
    "Pauli matrices anti-commute with each other,\n",
    "$$\\{P_i, P_j\\} = P_iP_j + P_jP_i = 0, \\ i \\neq j, $$\n",
    "that all Pauli matrices are closed under multiplication,\n",
    "$$P_i^2 = I,$$\n",
    "Conveniently, the Pauli operators represent the errors we care about:\n",
    "\\\n",
    "No error:\n",
    "$$I|\\psi\\rangle = \\alpha|0\\rangle + \\beta|1\\rangle.$$\n",
    "Bit-flip error:\n",
    "$$X|\\psi\\rangle = \\beta|0\\rangle + \\alpha|1\\rangle.$$\n",
    "Phase-flip error:\n",
    "$$Z|\\psi\\rangle = \\alpha|0\\rangle -\\beta|1\\rangle.$$\n",
    "Both phase- and bit-flip error:\n",
    "$$iZX|\\psi\\rangle = Y|\\psi\\rangle = \\beta|0\\rangle - \\alpha|1\\rangle.$$\n",
    "Stabilizers are also associative such that for another unitary, $V$, that also stabilizes $|\\psi\\rangle$, any product of $U$ and $V$ also stabilize $|\\psi\\rangle$. Now consider the case of an $2$ qubit Bell state, $|\\Psi\\rangle$, the stabilizers of $|\\Psi\\rangle$ can be found by a composition of tensor products that stabilize each state in $|\\Psi\\rangle$, making a stabilizer *group*, $S$. We know always $I\\otimes I \\otimes ... \\otimes I \\in S$, so we will omit it out of simplicity. For the sake of brevity, consider the notation $\\{I\\otimes I \\otimes ... \\otimes I\\} \\rightarrow \\{II...I\\}$; the stabilizer group for $|\\Psi\\rangle$ is "
   ]
  },
  {
   "cell_type": "markdown",
   "metadata": {},
   "source": [
    "### Repetition Code - Revisited\n",
    "As previous, consider two logical codewords that make up the codespace, $\\mathcal{C}$: \n",
    "$$|0\\rangle_L \\equiv |000\\rangle, \\ |1\\rangle_L \\equiv |111\\rangle, \\ |0\\rangle_L, \\ |1\\rangle_L \\in \\mathcal{C}.$$\n",
    "$|0\\rangle_L$, $|1\\rangle_L$ are orthogonal. The stabilizer generator group for this code is $S = \\{ZZI, ZIZ\\}$"
   ]
  },
  {
   "cell_type": "code",
   "execution_count": 4,
   "metadata": {},
   "outputs": [],
   "source": [
    "bitflip_rep_generator_group = [\n",
    "        PauliString('ZZ_'), # S_1\n",
    "        PauliString('Z_Z'), # S_2\n",
    "        PauliString('ZZZ'), \n",
    "    ]\n",
    "\n",
    "bitflip_rep=TableauSimulator()\n",
    "bitflip_rep.set_state_from_stabilizers(\n",
    "    bitflip_rep_generator_group\n",
    ")"
   ]
  },
  {
   "cell_type": "code",
   "execution_count": 5,
   "metadata": {},
   "outputs": [
    {
     "data": {
      "text/plain": [
       "[stim.PauliString(\"-ZZ_\"), stim.PauliString(\"+Z_Z\")]"
      ]
     },
     "execution_count": 5,
     "metadata": {},
     "output_type": "execute_result"
    }
   ],
   "source": [
    "bitflip_rep_x_err_2 = bitflip_rep.copy()\n",
    "bitflip_rep_x_err_2.do_pauli_string(PauliString('_X_'))\n",
    "get_stabilizers_from_tableau(bitflip_rep_x_err_2)"
   ]
  },
  {
   "cell_type": "code",
   "execution_count": 6,
   "metadata": {},
   "outputs": [
    {
     "data": {
      "text/plain": [
       "[stim.PauliString(\"-ZZ_\"), stim.PauliString(\"-Z_Z\")]"
      ]
     },
     "execution_count": 6,
     "metadata": {},
     "output_type": "execute_result"
    }
   ],
   "source": [
    "bitflip_rep_x_err_2 = bitflip_rep.copy()\n",
    "bitflip_rep_x_err_2.do_pauli_string(PauliString('X__'))\n",
    "get_stabilizers_from_tableau(bitflip_rep_x_err_2)"
   ]
  },
  {
   "cell_type": "code",
   "execution_count": 7,
   "metadata": {},
   "outputs": [
    {
     "data": {
      "text/plain": [
       "[stim.PauliString(\"+ZZ_\"), stim.PauliString(\"-Z_Z\")]"
      ]
     },
     "execution_count": 7,
     "metadata": {},
     "output_type": "execute_result"
    }
   ],
   "source": [
    "bitflip_rep_x_err_2 = bitflip_rep.copy()\n",
    "bitflip_rep_x_err_2.do_pauli_string(PauliString('__X'))\n",
    "get_stabilizers_from_tableau(bitflip_rep_x_err_2)"
   ]
  },
  {
   "cell_type": "markdown",
   "metadata": {},
   "source": [
    "We can see that each error produces a distinct effect on the stabilizer group. This is important as it satisfies a key component of quantum error correction. "
   ]
  },
  {
   "cell_type": "markdown",
   "metadata": {},
   "source": [
    "$$"
   ]
  },
  {
   "cell_type": "code",
   "execution_count": 8,
   "metadata": {},
   "outputs": [],
   "source": [
    "phaseflip_rep_generator_group = [\n",
    "        PauliString('XX_'), # S_1\n",
    "        PauliString('X_X'), # S_2\n",
    "        PauliString('XXX'), \n",
    "    ]\n",
    "\n",
    "phaseflip_rep=TableauSimulator()\n",
    "phaseflip_rep.set_state_from_stabilizers(\n",
    "    phaseflip_rep_generator_group\n",
    ")\n"
   ]
  },
  {
   "cell_type": "markdown",
   "metadata": {},
   "source": []
  },
  {
   "cell_type": "code",
   "execution_count": 9,
   "metadata": {},
   "outputs": [
    {
     "name": "stdout",
     "output_type": "stream",
     "text": [
      "Encoded state from stabilizers match expected: True\n"
     ]
    },
    {
     "data": {
      "text/plain": [
       "[stim.PauliString(\"+ZZ_______\"),\n",
       " stim.PauliString(\"+Z_Z______\"),\n",
       " stim.PauliString(\"+___ZZ____\"),\n",
       " stim.PauliString(\"+___Z_Z___\"),\n",
       " stim.PauliString(\"+______ZZ_\"),\n",
       " stim.PauliString(\"+______Z_Z\"),\n",
       " stim.PauliString(\"+XXX___XXX\"),\n",
       " stim.PauliString(\"+XXXXXX___\")]"
      ]
     },
     "execution_count": 9,
     "metadata": {},
     "output_type": "execute_result"
    }
   ],
   "source": [
    "shors_generator_group = [\n",
    "        PauliString('ZZ_______'), # S_1 \n",
    "        PauliString('Z_Z______'), # S_2\n",
    "        PauliString('___ZZ____'), # S_3\n",
    "        PauliString('___Z_Z___'), # S_4\n",
    "        PauliString('______ZZ_'), # S_5\n",
    "        PauliString('______Z_Z'), # S_6\n",
    "        PauliString('XXX___XXX'), # S_7\n",
    "        PauliString('XXXXXX___'), # S_8, notice how all of the stabilizer generators commute!\n",
    "        PauliString('XXXXXXXXX'), #+1 equiv. |0>_L, -1 equiv |1>_L\n",
    "    ]\n",
    "\n",
    "s = TableauSimulator()\n",
    "s.set_state_from_stabilizers(\n",
    "    shors_generator_group\n",
    ")\n",
    "\n",
    "bell_p = np.zeros((8,))\n",
    "np.put(bell_p, [0, 7], 1/np.sqrt(2)) # (1 / sqrt(2))(|000> + |111>)\n",
    "logical_0 = np.kron(np.kron(bell_p, bell_p), bell_p) # |0>_L = (1 / (2 * sqrt(2)))(|000> + |111>)(|000> + |111>)(|000> + |111>)\n",
    "\n",
    "# Will be true if shors_generator_group correctly encodes the state as outlined in Shor's \n",
    "print(f'Encoded state from stabilizers match expected: {np.allclose(logical_0, s.state_vector())}')\n",
    "get_stabilizers_from_tableau(s)"
   ]
  },
  {
   "cell_type": "markdown",
   "metadata": {},
   "source": [
    "Suppose there is a single arbitrary Pauli error, $\\{E\\} \\in P$, that occurs after encoding."
   ]
  },
  {
   "cell_type": "code",
   "execution_count": 10,
   "metadata": {},
   "outputs": [
    {
     "data": {
      "text/plain": [
       "[stim.PauliString(\"+ZZ_______\"),\n",
       " stim.PauliString(\"-Z_Z______\"),\n",
       " stim.PauliString(\"+___ZZ____\"),\n",
       " stim.PauliString(\"+___Z_Z___\"),\n",
       " stim.PauliString(\"+______ZZ_\"),\n",
       " stim.PauliString(\"+______Z_Z\"),\n",
       " stim.PauliString(\"+XXX___XXX\"),\n",
       " stim.PauliString(\"+XXXXXX___\")]"
      ]
     },
     "execution_count": 10,
     "metadata": {},
     "output_type": "execute_result"
    }
   ],
   "source": [
    "s_x_err = s.copy()\n",
    "s_x_err.do_pauli_string(PauliString('__X______')) # X error on 3rd qubit\n",
    "get_stabilizers_from_tableau(s_x_err)"
   ]
  },
  {
   "cell_type": "markdown",
   "metadata": {},
   "source": [
    "Now, the state is \n",
    "$${X_3}|0\\rangle_L \\rightarrow \\frac{1}{2\\sqrt{2}}\\left((|000\\rangle+|111\\rangle)(|100\\rangle+|011\\rangle)(|000\\rangle+|111\\rangle)\\right).$$\n",
    "Note that the stabilizers in $S_2$ anti-commute while the rest of the generators commute. "
   ]
  },
  {
   "cell_type": "code",
   "execution_count": 11,
   "metadata": {},
   "outputs": [
    {
     "data": {
      "text/plain": [
       "[stim.PauliString(\"+ZZ_______\"),\n",
       " stim.PauliString(\"+Z_Z______\"),\n",
       " stim.PauliString(\"+___ZZ____\"),\n",
       " stim.PauliString(\"+___Z_Z___\"),\n",
       " stim.PauliString(\"+______ZZ_\"),\n",
       " stim.PauliString(\"+______Z_Z\"),\n",
       " stim.PauliString(\"+XXX___XXX\"),\n",
       " stim.PauliString(\"+XXXXXX___\")]"
      ]
     },
     "execution_count": 11,
     "metadata": {},
     "output_type": "execute_result"
    }
   ],
   "source": [
    "s_x_err.do_pauli_string(PauliString('__X______')) # Correct X error on 3rd qubit\n",
    "get_stabilizers_from_tableau(s_x_err)"
   ]
  },
  {
   "cell_type": "markdown",
   "metadata": {},
   "source": [
    "And we are back to our original state."
   ]
  },
  {
   "cell_type": "code",
   "execution_count": 12,
   "metadata": {},
   "outputs": [
    {
     "data": {
      "text/plain": [
       "[stim.PauliString(\"+ZZ_______\"),\n",
       " stim.PauliString(\"+Z_Z______\"),\n",
       " stim.PauliString(\"+___ZZ____\"),\n",
       " stim.PauliString(\"+___Z_Z___\"),\n",
       " stim.PauliString(\"+______ZZ_\"),\n",
       " stim.PauliString(\"+______Z_Z\"),\n",
       " stim.PauliString(\"-XXX___XXX\"),\n",
       " stim.PauliString(\"+XXXXXX___\")]"
      ]
     },
     "execution_count": 12,
     "metadata": {},
     "output_type": "execute_result"
    }
   ],
   "source": [
    "s_z_err = s.copy()\n",
    "s_z_err.do_pauli_string(PauliString('_______Z_')) # Z error on 8th qubit\n",
    "get_stabilizers_from_tableau(s_z_err)"
   ]
  },
  {
   "cell_type": "markdown",
   "metadata": {},
   "source": [
    "Now, the state is \n",
    "$$ Z_8|0\\rangle \\rightarrow \\frac{1}{2\\sqrt{2}}\\left((|000\\rangle+|111\\rangle)(|000\\rangle+|111\\rangle)(|000\\rangle-|111\\rangle)\\right).$$\n",
    "For phase flip errors, we see that a phase-flip affects the entire block! We cannot tell precisely which qubit caused the phase-flip (assuming we didn't know about the intentional error I applied to the state)... "
   ]
  },
  {
   "cell_type": "markdown",
   "metadata": {},
   "source": [
    "After applying "
   ]
  },
  {
   "cell_type": "markdown",
   "metadata": {},
   "source": [
    "We can find the logical observable by measuring the ${X}_L$ observable."
   ]
  },
  {
   "cell_type": "code",
   "execution_count": 13,
   "metadata": {},
   "outputs": [
    {
     "data": {
      "text/plain": [
       "1"
      ]
     },
     "execution_count": 13,
     "metadata": {},
     "output_type": "execute_result"
    }
   ],
   "source": [
    "s_meas_0 = s.copy()\n",
    "s_meas_0.peek_observable_expectation(PauliString('XXXXXXXXX'))     "
   ]
  },
  {
   "cell_type": "markdown",
   "metadata": {},
   "source": [
    "We measure $|{0}\\rangle_L$ (or $+1$ expectation value of ${X}_L$) as expected! To flip from $|{0}\\rangle_L \\rightarrow |{1}\\rangle_L$, we can apply a ${Z}_L$ operator. We should now get $|{1}\\rangle_L$ when we measure ${X}_L$."
   ]
  },
  {
   "cell_type": "code",
   "execution_count": 14,
   "metadata": {},
   "outputs": [
    {
     "data": {
      "text/plain": [
       "-1"
      ]
     },
     "execution_count": 14,
     "metadata": {},
     "output_type": "execute_result"
    }
   ],
   "source": [
    "s = TableauSimulator()\n",
    "s.set_state_from_stabilizers(\n",
    "    shors_generator_group\n",
    ")\n",
    "s.do_pauli_string(PauliString('ZZZZZZZZZ'))\n",
    "\n",
    "s.peek_observable_expectation(PauliString('XXXXXXXXX'))   "
   ]
  },
  {
   "cell_type": "code",
   "execution_count": 15,
   "metadata": {},
   "outputs": [],
   "source": [
    "c=Tableau.from_stabilizers(shors_generator_group).to_circuit()\n",
    "for i in range(9): c.append('DEPOLARIZE1', i, .1)\n",
    "s = c.compile_sampler()"
   ]
  },
  {
   "cell_type": "code",
   "execution_count": null,
   "metadata": {},
   "outputs": [],
   "source": []
  }
 ],
 "metadata": {
  "kernelspec": {
   "display_name": "qec_notebooks",
   "language": "python",
   "name": "python3"
  },
  "language_info": {
   "codemirror_mode": {
    "name": "ipython",
    "version": 3
   },
   "file_extension": ".py",
   "mimetype": "text/x-python",
   "name": "python",
   "nbconvert_exporter": "python",
   "pygments_lexer": "ipython3",
   "version": "3.12.4"
  }
 },
 "nbformat": 4,
 "nbformat_minor": 2
}
