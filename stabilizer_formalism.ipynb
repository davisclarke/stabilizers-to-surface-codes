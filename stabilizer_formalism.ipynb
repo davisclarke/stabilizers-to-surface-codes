{
 "cells": [
  {
   "cell_type": "markdown",
   "metadata": {},
   "source": [
    "# The Basics of Stabilizer Formalism\n"
   ]
  },
  {
   "cell_type": "markdown",
   "metadata": {},
   "source": []
  },
  {
   "cell_type": "code",
   "execution_count": 3,
   "metadata": {},
   "outputs": [],
   "source": [
    "from qutip import qeye, basis, tensor, sigmax, sigmay, sigmaz, Qobj, QobjEvo, fidelity\n",
    "from scipy.linalg import eig\n",
    "from qutip.qip.operations import snot, cnot\n",
    "ket0=basis(2,0)\n",
    "ket1=basis(2,1)\n",
    "bra0=ket0.trans()\n",
    "bra1=ket1.trans()"
   ]
  },
  {
   "cell_type": "markdown",
   "metadata": {},
   "source": []
  },
  {
   "cell_type": "code",
   "execution_count": 4,
   "metadata": {},
   "outputs": [
    {
     "data": {
      "text/latex": [
       "Quantum object: dims = [[2], [2]], shape = (2, 2), type = oper, isherm = True $ \\\\ \\left(\\begin{matrix}1.0 & 0.0\\\\0.0 & 1.0\\\\\\end{matrix}\\right)$"
      ],
      "text/plain": [
       "Quantum object: dims = [[2], [2]], shape = (2, 2), type = oper, isherm = True\n",
       "Qobj data =\n",
       "[[1. 0.]\n",
       " [0. 1.]]"
      ]
     },
     "execution_count": 4,
     "metadata": {},
     "output_type": "execute_result"
    }
   ],
   "source": [
    "qeye(2)"
   ]
  },
  {
   "cell_type": "markdown",
   "metadata": {},
   "source": [
    "Identity stabilizes any statevector in the Hilbert space! Measuring in $I$ basis will always have a $+1$ expectation value.\n",
    "$$I|\\psi\\rangle=|\\psi\\rangle,$$\n",
    "$$\\langle \\psi | I | \\psi \\rangle = \\langle \\psi | \\psi \\rangle = 1$$\n",
    "$\\sigma_x$ stabilizes $|+\\rangle$\n",
    "$$\\sigma_x|+\\rangle=|+\\rangle,$$\n",
    "$\\sigma_y$ stabilizes $|i\\rangle$,\n",
    "$$\\sigma_y|i\\rangle=|i\\rangle$$\n",
    "\n",
    "$\\sigma_z$ stabilizes $|0\\rangle$,\n",
    "$$\\sigma_z|0\\rangle=|0\\rangle,$$\n",
    "\n",
    "For any unitary operator, $U$, its eigenstate with eigenvalue $+1$, $|\\Psi\\rangle$, is stabilized by $U$. \n",
    "$$U|\\Psi\\rangle=|\\Psi\\rangle.$$\n",
    "Note here that global phase matters, so eigenstate of $U$ with eigenvalue $-1$ is not stabilized by $U$. "
   ]
  },
  {
   "cell_type": "markdown",
   "metadata": {},
   "source": []
  },
  {
   "cell_type": "code",
   "execution_count": 6,
   "metadata": {},
   "outputs": [
    {
     "data": {
      "text/plain": [
       "(array([ 1.+0.j, -1.+0.j]),\n",
       " array([[-0.        -0.70710678j,  0.70710678+0.j        ],\n",
       "        [ 0.70710678+0.j        ,  0.        -0.70710678j]]))"
      ]
     },
     "execution_count": 6,
     "metadata": {},
     "output_type": "execute_result"
    }
   ],
   "source": []
  },
  {
   "cell_type": "code",
   "execution_count": null,
   "metadata": {},
   "outputs": [],
   "source": []
  }
 ],
 "metadata": {
  "kernelspec": {
   "display_name": "iontraps",
   "language": "python",
   "name": "python3"
  },
  "language_info": {
   "codemirror_mode": {
    "name": "ipython",
    "version": 3
   },
   "file_extension": ".py",
   "mimetype": "text/x-python",
   "name": "python",
   "nbconvert_exporter": "python",
   "pygments_lexer": "ipython3",
   "version": "3.12.0"
  }
 },
 "nbformat": 4,
 "nbformat_minor": 2
}
